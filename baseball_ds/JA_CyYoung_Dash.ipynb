{
 "cells": [
  {
   "cell_type": "code",
   "execution_count": 51,
   "metadata": {},
   "outputs": [],
   "source": [
    "import pandas as pd\n",
    "import numpy as np\n",
    "import matplotlib.pyplot as plt \n",
    "import seaborn as sns \n",
    " "
   ]
  },
  {
   "cell_type": "code",
   "execution_count": 52,
   "metadata": {},
   "outputs": [],
   "source": [
    "#Imports the CSV for Jake Arrieta's pitch data \n",
    "\n",
    "df = pd.read_csv('/Users/mason_cotter/Desktop/python_projects/baseball_ds/Jake_Arrieta_CyYoung.csv')\n"
   ]
  },
  {
   "cell_type": "code",
   "execution_count": 53,
   "metadata": {},
   "outputs": [
    {
     "name": "stdout",
     "output_type": "stream",
     "text": [
      "Number of games played: 33\n"
     ]
    }
   ],
   "source": [
    "# Total number of starts \n",
    "\n",
    "games_played = len(pd.unique(df['game_pk']))\n",
    "print('Number of games played:', games_played) "
   ]
  },
  {
   "cell_type": "code",
   "execution_count": 54,
   "metadata": {},
   "outputs": [
    {
     "name": "stdout",
     "output_type": "stream",
     "text": [
      "Number of pitches thrown: 3438\n"
     ]
    }
   ],
   "source": [
    "# Total number of pitches thrown \n",
    "\n",
    "num_pitch = len(df['pitch_type'])\n",
    "print('Number of pitches thrown:', num_pitch)"
   ]
  },
  {
   "cell_type": "code",
   "execution_count": 55,
   "metadata": {},
   "outputs": [
    {
     "name": "stdout",
     "output_type": "stream",
     "text": [
      "Unique pitch types: ['Slider' 'Sinker' 'Curveball' '4-Seam Fastball' 'Changeup'\n",
      " 'Intentional Ball' nan]\n"
     ]
    }
   ],
   "source": [
    "# Types of pitches thrown \n",
    "\n",
    "pitch_types = df.pitch_name.unique()\n",
    "print('Unique pitch types:', pitch_types)"
   ]
  },
  {
   "cell_type": "code",
   "execution_count": 56,
   "metadata": {},
   "outputs": [
    {
     "name": "stdout",
     "output_type": "stream",
     "text": [
      "         pitch_name  release_speed\n",
      "0   4-Seam Fastball      95.067638\n",
      "1          Changeup      89.489308\n",
      "2         Curveball      81.246388\n",
      "3  Intentional Ball      82.966667\n",
      "4            Sinker      95.345991\n",
      "5            Slider      90.807078\n"
     ]
    }
   ],
   "source": [
    "# Creates a dataframe with the name of the pitch and that pitche's average release speed. \n",
    "\n",
    "pitch_data = df.groupby('pitch_name')['release_speed'].mean().reset_index()\n",
    "# pitch_data.columns = ['pitch_name', 'avg_relsease_velo']\n",
    "print(pitch_data)\n",
    "\n"
   ]
  },
  {
   "cell_type": "code",
   "execution_count": 57,
   "metadata": {},
   "outputs": [
    {
     "name": "stdout",
     "output_type": "stream",
     "text": [
      "              index  pitch_name\n",
      "0            Sinker    0.330615\n",
      "1            Slider    0.288086\n",
      "2   4-Seam Fastball    0.180017\n",
      "3         Curveball    0.153219\n",
      "4          Changeup    0.046315\n",
      "5  Intentional Ball    0.001748\n"
     ]
    }
   ],
   "source": [
    "# creates a dataframe named pitch_usage with the frequency of each pitch thrown. However, the columns are incorrect. \n",
    "\n",
    "pitch_usage = df['pitch_name'].value_counts(normalize=True).reset_index()\n",
    "print(pitch_usage)"
   ]
  },
  {
   "cell_type": "code",
   "execution_count": 58,
   "metadata": {},
   "outputs": [
    {
     "name": "stdout",
     "output_type": "stream",
     "text": [
      "        pitch_name  pitch_frequency\n",
      "0           Sinker         0.330615\n",
      "1           Slider         0.288086\n",
      "2  4-Seam Fastball         0.180017\n",
      "3        Curveball         0.153219\n",
      "4         Changeup         0.046315\n"
     ]
    }
   ],
   "source": [
    "# Fixes the columns of pitch_usage \n",
    "\n",
    "pitch_usage.columns = ['pitch_name', 'pitch_frequency']\n",
    "print(pitch_usage.head())\n",
    "\n"
   ]
  },
  {
   "cell_type": "code",
   "execution_count": 59,
   "metadata": {},
   "outputs": [
    {
     "name": "stdout",
     "output_type": "stream",
     "text": [
      "         pitch_name  release_speed  pitch_frequency\n",
      "0   4-Seam Fastball      95.067638         0.180017\n",
      "1          Changeup      89.489308         0.046315\n",
      "2         Curveball      81.246388         0.153219\n",
      "3  Intentional Ball      82.966667         0.001748\n",
      "4            Sinker      95.345991         0.330615\n",
      "5            Slider      90.807078         0.288086\n"
     ]
    }
   ],
   "source": [
    "# Adds the pitch_frequency column to the pitch_data dataframe \n",
    "\n",
    "pitch_data = pd.merge(pitch_data, pitch_usage)\n",
    "print(pitch_data)\n"
   ]
  },
  {
   "cell_type": "code",
   "execution_count": 60,
   "metadata": {},
   "outputs": [
    {
     "name": "stdout",
     "output_type": "stream",
     "text": [
      "Number of pitches thrown to left-handed batters: 1695\n",
      "Number of pitches thrown to right-handed batters: 1743\n"
     ]
    }
   ],
   "source": [
    "#Calculates the number of total pitches thrown to left handed batters \n",
    "\n",
    "num_left = 0 \n",
    "for i in df['stand']: \n",
    "    if i == 'L': \n",
    "        num_left += 1 \n",
    "print('Number of pitches thrown to left-handed batters:', num_left)\n",
    "\n",
    "#Calculates the number of total pitches thrown to right handed batters \n",
    "\n",
    "num_right = 0\n",
    "for i in df['stand']: \n",
    "    if i == 'R': \n",
    "        num_right += 1 \n",
    "print('Number of pitches thrown to right-handed batters:', num_right)"
   ]
  },
  {
   "cell_type": "code",
   "execution_count": 61,
   "metadata": {},
   "outputs": [],
   "source": [
    "def pitch_L(x): \n",
    "    ''' \n",
    "    Calculates the number of a particular pitch trown to left handed batters. \n",
    "    '''\n",
    "    x = str(x)\n",
    "    count = 0 \n",
    "    for i in range(len(df['pitch_name'])): \n",
    "        if df['pitch_name'][i] == x and df['stand'][i] == 'L': \n",
    "            count += 1\n",
    "    return count \n",
    "\n",
    "def pitch_R(x):\n",
    "    ''' \n",
    "    Calculates the number of a particulat pitch trown to right handed batters. \n",
    "    '''\n",
    "    x = str(x)\n",
    "    count = 0 \n",
    "    for i in range(len(df['pitch_name'])): \n",
    "        if df['pitch_name'][i] == x and df['stand'][i] == 'R': \n",
    "            count += 1\n",
    "    return count "
   ]
  },
  {
   "cell_type": "code",
   "execution_count": 62,
   "metadata": {},
   "outputs": [
    {
     "name": "stdout",
     "output_type": "stream",
     "text": [
      "337\n",
      "27\n",
      "247\n",
      "6\n",
      "578\n",
      "545\n"
     ]
    }
   ],
   "source": [
    "# Outputing pitch_R \n",
    "\n",
    "FF_R = pitch_R('4-Seam Fastball')\n",
    "print(FF_R)\n",
    "\n",
    "Change_R = pitch_R(\"Changeup\") \n",
    "print(Change_R)\n",
    "\n",
    "Curve_R = pitch_R(\"Curveball\")\n",
    "print(Curve_R)\n",
    "\n",
    "IBall_R = pitch_R(\"Intentional Ball\")\n",
    "print(IBall_R)\n",
    "\n",
    "Sink_R = pitch_R(\"Sinker\")\n",
    "print(Sink_R)\n",
    "\n",
    "Slide_R = pitch_R(\"Slider\")\n",
    "print(Slide_R)"
   ]
  },
  {
   "cell_type": "code",
   "execution_count": 63,
   "metadata": {},
   "outputs": [
    {
     "name": "stdout",
     "output_type": "stream",
     "text": [
      "281\n",
      "132\n",
      "279\n",
      "0\n",
      "557\n",
      "444\n"
     ]
    }
   ],
   "source": [
    "# Outputing pitch_L \n",
    "\n",
    "FF_L = pitch_L(\"4-Seam Fastball\")\n",
    "print(FF_L)\n",
    "\n",
    "Change_L = pitch_L(\"Changeup\") \n",
    "print(Change_L)\n",
    "\n",
    "Curve_L = pitch_L(\"Curveball\")\n",
    "print(Curve_L)\n",
    "IBall_L = pitch_L(\"Intentional Ball\")\n",
    "print(IBall_L)\n",
    "\n",
    "Sink_L = pitch_L(\"Sinker\")\n",
    "print(Sink_L)\n",
    "\n",
    "Slide_L = pitch_L(\"Slider\")\n",
    "print(Slide_L)"
   ]
  },
  {
   "cell_type": "code",
   "execution_count": 64,
   "metadata": {},
   "outputs": [
    {
     "name": "stdout",
     "output_type": "stream",
     "text": [
      "   VS L  VS R\n",
      "0   281   337\n",
      "1   132    27\n",
      "2   279   247\n",
      "3     0     6\n",
      "4   557   578\n",
      "5   444   545\n"
     ]
    }
   ],
   "source": [
    "# Turning outputs of pitch_L and pitch_R into a dataframe \n",
    "pitch_LR = {\"VS L\": [FF_L, Change_L, Curve_L, IBall_L, Sink_L, Slide_L], \n",
    "            \"VS R\": [FF_R, Change_R, Curve_R, IBall_R, Sink_R, Slide_R]}\n",
    "pitch_LR_1 = pd.DataFrame(pitch_LR)\n",
    "print(pitch_LR_1)"
   ]
  },
  {
   "cell_type": "code",
   "execution_count": 65,
   "metadata": {},
   "outputs": [
    {
     "name": "stdout",
     "output_type": "stream",
     "text": [
      "         pitch_name  release_speed  pitch_frequency  VS L  VS R\n",
      "0   4-Seam Fastball      95.067638         0.180017   281   337\n",
      "1          Changeup      89.489308         0.046315   132    27\n",
      "2         Curveball      81.246388         0.153219   279   247\n",
      "3  Intentional Ball      82.966667         0.001748     0     6\n",
      "4            Sinker      95.345991         0.330615   557   578\n",
      "5            Slider      90.807078         0.288086   444   545\n"
     ]
    }
   ],
   "source": [
    "# Adding pitch_L and pitch_R data to pitch_data \n",
    "\n",
    "pitch_data = pd.merge(pitch_data, pitch_LR_1, left_index=True, right_index=True)\n",
    "print(pitch_data)"
   ]
  },
  {
   "cell_type": "code",
   "execution_count": 66,
   "metadata": {},
   "outputs": [
    {
     "name": "stdout",
     "output_type": "stream",
     "text": [
      "         pitch_name  pitch_count  pitch_frequency  release_speed  VS L  VS R\n",
      "0   4-Seam Fastball          618         0.180017      95.067638   281   337\n",
      "1          Changeup          159         0.046315      89.489308   132    27\n",
      "2         Curveball          526         0.153219      81.246388   279   247\n",
      "3  Intentional Ball            6         0.001748      82.966667     0     6\n",
      "4            Sinker         1135         0.330615      95.345991   557   578\n",
      "5            Slider          989         0.288086      90.807078   444   545\n"
     ]
    }
   ],
   "source": [
    "# Adding pitch count to pitch_data \n",
    "\n",
    "pitch_count = pd.DataFrame(df.value_counts('pitch_name').reset_index())\n",
    "pitch_count.columns = ['pitch_name', 'pitch_count']\n",
    "pitch_data = pd.merge(pitch_data, pitch_count, right_on='pitch_name', left_on= 'pitch_name')\n",
    "pitch_data = pitch_data.reindex(columns= ['pitch_name', 'pitch_count', 'pitch_frequency', 'release_speed', 'VS L', 'VS R'])\n",
    "\n",
    "print(pitch_data)\n",
    "\n"
   ]
  },
  {
   "cell_type": "code",
   "execution_count": 67,
   "metadata": {},
   "outputs": [
    {
     "name": "stdout",
     "output_type": "stream",
     "text": [
      "         pitch_name  pitch_count  pitch_frequency  release_speed  VS L  VS R  \\\n",
      "0   4-Seam Fastball          618         0.180017      95.067638   281   337   \n",
      "1          Changeup          159         0.046315      89.489308   132    27   \n",
      "2         Curveball          526         0.153219      81.246388   279   247   \n",
      "3  Intentional Ball            6         0.001748      82.966667     0     6   \n",
      "4            Sinker         1135         0.330615      95.345991   557   578   \n",
      "5            Slider          989         0.288086      90.807078   444   545   \n",
      "\n",
      "   hits  \n",
      "0    75  \n",
      "1    23  \n",
      "2    78  \n",
      "3     0  \n",
      "4   184  \n",
      "5   219  \n"
     ]
    }
   ],
   "source": [
    "# adding number of hits per pitch \n",
    "\n",
    "def hits(x): \n",
    "    ''' \n",
    "    Calculates the number of hits off of a particular pitch. \n",
    "    '''\n",
    "    x = str(x)\n",
    "    count = 0 \n",
    "    for i in range(len(df['pitch_name'])): \n",
    "        if df['pitch_name'][i] == x and df['type'][i] == 'X': \n",
    "            count += 1\n",
    "    return count \n",
    "\n",
    "hits_4 = hits('4-Seam Fastball')\n",
    "hits_change = hits('Changeup')\n",
    "hits_curve = hits('Curveball')\n",
    "hits_IB = hits('Intentional Ball')\n",
    "hits_sinker = hits('Sinker')\n",
    "hits_slider = hits('Slider')\n",
    "\n",
    "pitch_data['hits'] = [hits_4, hits_change, hits_curve, hits_IB, hits_sinker, hits_slider]\n",
    "\n",
    "print(pitch_data)"
   ]
  },
  {
   "cell_type": "code",
   "execution_count": 68,
   "metadata": {},
   "outputs": [
    {
     "name": "stdout",
     "output_type": "stream",
     "text": [
      "         pitch_name  pitch_count  pitch_frequency  release_speed  VS L  VS R  \\\n",
      "0   4-Seam Fastball          618         0.180017      95.067638   281   337   \n",
      "1          Changeup          159         0.046315      89.489308   132    27   \n",
      "2         Curveball          526         0.153219      81.246388   279   247   \n",
      "3  Intentional Ball            6         0.001748      82.966667     0     6   \n",
      "4            Sinker         1135         0.330615      95.345991   557   578   \n",
      "5            Slider          989         0.288086      90.807078   444   545   \n",
      "\n",
      "   hits  effective_speed  \n",
      "0    75        94.553909  \n",
      "1    23        88.956329  \n",
      "2    78        79.682218  \n",
      "3     0        81.750000  \n",
      "4   184        94.628533  \n",
      "5   219        90.095219  \n"
     ]
    }
   ],
   "source": [
    "# adding average effective speed \n",
    "effective_velo = df.groupby('pitch_name')['effective_speed'].mean()\n",
    "pitch_data = pd.merge(pitch_data, effective_velo, right_on='pitch_name', left_on= 'pitch_name')\n",
    "print(pitch_data)"
   ]
  },
  {
   "cell_type": "code",
   "execution_count": 69,
   "metadata": {},
   "outputs": [
    {
     "name": "stdout",
     "output_type": "stream",
     "text": [
      "         pitch_name  pitch_count  pitch_frequency  release_speed  VS L  VS R  \\\n",
      "0   4-Seam Fastball          618         0.180017      95.067638   281   337   \n",
      "1          Changeup          159         0.046315      89.489308   132    27   \n",
      "2         Curveball          526         0.153219      81.246388   279   247   \n",
      "3  Intentional Ball            6         0.001748      82.966667     0     6   \n",
      "4            Sinker         1135         0.330615      95.345991   557   578   \n",
      "5            Slider          989         0.288086      90.807078   444   545   \n",
      "\n",
      "   hits  effective_speed  release_spin_rate  \n",
      "0    75        94.553909        2292.386401  \n",
      "1    23        88.956329        1943.621795  \n",
      "2    78        79.682218        2688.809249  \n",
      "3     0        81.750000        2012.333333  \n",
      "4   184        94.628533        2261.964865  \n",
      "5   219        90.095219        2222.204724  \n"
     ]
    }
   ],
   "source": [
    "spin_rate = df.groupby('pitch_name')['release_spin_rate'].mean()\n",
    "pitch_data = pd.merge(pitch_data, spin_rate, right_on='pitch_name', left_on= 'pitch_name')\n",
    "print(pitch_data)"
   ]
  },
  {
   "cell_type": "code",
   "execution_count": 70,
   "metadata": {},
   "outputs": [
    {
     "name": "stdout",
     "output_type": "stream",
     "text": [
      "         pitch_name  count  pitch_freq  avg_release_velo  VS L  VS R  hits  \\\n",
      "0   4-Seam Fastball    618    0.180017         95.067638   281   337    75   \n",
      "1          Changeup    159    0.046315         89.489308   132    27    23   \n",
      "2         Curveball    526    0.153219         81.246388   279   247    78   \n",
      "3  Intentional Ball      6    0.001748         82.966667     0     6     0   \n",
      "4            Sinker   1135    0.330615         95.345991   557   578   184   \n",
      "5            Slider    989    0.288086         90.807078   444   545   219   \n",
      "\n",
      "   avg_effective_speed  avg_release_spin  \n",
      "0            94.553909       2292.386401  \n",
      "1            88.956329       1943.621795  \n",
      "2            79.682218       2688.809249  \n",
      "3            81.750000       2012.333333  \n",
      "4            94.628533       2261.964865  \n",
      "5            90.095219       2222.204724  \n"
     ]
    }
   ],
   "source": [
    "pitch_data.columns = ['pitch_name', 'count', 'pitch_freq', 'avg_release_velo', 'VS L', 'VS R', 'hits', 'avg_effective_speed', 'avg_release_spin']\n",
    "print(pitch_data)"
   ]
  },
  {
   "cell_type": "code",
   "execution_count": null,
   "metadata": {},
   "outputs": [],
   "source": []
  }
 ],
 "metadata": {
  "kernelspec": {
   "display_name": "base",
   "language": "python",
   "name": "python3"
  },
  "language_info": {
   "codemirror_mode": {
    "name": "ipython",
    "version": 3
   },
   "file_extension": ".py",
   "mimetype": "text/x-python",
   "name": "python",
   "nbconvert_exporter": "python",
   "pygments_lexer": "ipython3",
   "version": "3.9.13"
  },
  "orig_nbformat": 4,
  "vscode": {
   "interpreter": {
    "hash": "f24963f5c0418557e1617f1a58833132f04e3dfbce2843fa7012afb09e749065"
   }
  }
 },
 "nbformat": 4,
 "nbformat_minor": 2
}
